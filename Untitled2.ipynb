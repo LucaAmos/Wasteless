{
 "cells": [
  {
   "cell_type": "code",
   "execution_count": null,
   "id": "67d78275-c024-4b63-b8a7-28588d9cdcb7",
   "metadata": {},
   "outputs": [
    {
     "name": "stdout",
     "output_type": "stream",
     "text": [
      "hello livio\n",
      "deutschland\n",
      "2\n"
     ]
    }
   ],
   "source": [
    "print('hello livio')\n",
    "print(\"deutschland\")\n",
    "print (1+1)\n",
    "print (1898)"
   ]
  },
  {
   "cell_type": "code",
   "execution_count": null,
   "id": "1ac2ecd0-f096-4b53-b7ef-53cfc6dd9221",
   "metadata": {},
   "outputs": [],
   "source": []
  }
 ],
 "metadata": {
  "kernelspec": {
   "display_name": "Python 3",
   "language": "python",
   "name": "python3"
  },
  "language_info": {
   "codemirror_mode": {
    "name": "ipython",
    "version": 3
   },
   "file_extension": ".py",
   "mimetype": "text/x-python",
   "name": "python",
   "nbconvert_exporter": "python",
   "pygments_lexer": "ipython3",
   "version": "3.13.0"
  }
 },
 "nbformat": 4,
 "nbformat_minor": 5
}
